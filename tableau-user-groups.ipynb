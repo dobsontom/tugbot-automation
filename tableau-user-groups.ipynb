{
 "cells": [
  {
   "cell_type": "code",
   "execution_count": 11,
   "id": "ec17bb72-34cd-4975-aed2-af0ad105b7cf",
   "metadata": {},
   "outputs": [
    {
     "name": "stdout",
     "output_type": "stream",
     "text": [
      "2175\n",
      "2090\n",
      "2260\n",
      "2131\n",
      "2196\n",
      "2235\n",
      "2208\n",
      "2249\n",
      "2297\n",
      "2269\n",
      "2280\n",
      "2139\n",
      "2057\n",
      "2189\n",
      "2236\n",
      "2271\n",
      "2129\n",
      "2239\n",
      "2111\n",
      "2218\n",
      "2311\n",
      "2238\n",
      "2023\n",
      "2288\n"
     ]
    }
   ],
   "source": [
    "import requests\n",
    "import json\n",
    "import csv\n",
    "\n",
    "url = 'https://usergroups.tableau.com/api/search/?result_types=upcoming_event&&country_code=Earth'\n",
    "\n",
    "response = requests.get(url)\n",
    "response.raise_for_status()\n",
    "\n",
    "json_data = response.json()\n",
    "json_results = json_data['results']\n",
    "\n",
    "for i in json_results:\n",
    "    print(i['id'])\n",
    "\n"
   ]
  },
  {
   "cell_type": "code",
   "execution_count": 8,
   "id": "31c27c39-c184-4225-8095-22c98252bfda",
   "metadata": {},
   "outputs": [],
   "source": [
    "with open('events.csv', 'w') as events_data:\n",
    "    writer = csv.writer(events_data, delimiter = ',')\n",
    "    writer.writerows(json_data['results'])"
   ]
  },
  {
   "cell_type": "code",
   "execution_count": null,
   "id": "1029c83a-da83-467f-9bb9-db0e95254334",
   "metadata": {},
   "outputs": [],
   "source": []
  },
  {
   "cell_type": "code",
   "execution_count": null,
   "id": "0534c39b-f7ca-4a25-8a43-1f677936fce8",
   "metadata": {},
   "outputs": [],
   "source": []
  },
  {
   "cell_type": "code",
   "execution_count": null,
   "id": "937881a0-7099-4092-ae75-24457473f0b4",
   "metadata": {},
   "outputs": [],
   "source": []
  }
 ],
 "metadata": {
  "kernelspec": {
   "display_name": "Python 3 (ipykernel)",
   "language": "python",
   "name": "python3"
  },
  "language_info": {
   "codemirror_mode": {
    "name": "ipython",
    "version": 3
   },
   "file_extension": ".py",
   "mimetype": "text/x-python",
   "name": "python",
   "nbconvert_exporter": "python",
   "pygments_lexer": "ipython3",
   "version": "3.11.5"
  }
 },
 "nbformat": 4,
 "nbformat_minor": 5
}
