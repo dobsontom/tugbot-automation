{
 "cells": [
  {
   "cell_type": "code",
   "execution_count": 9,
   "id": "7f51a345-d513-40ab-8114-a61fa00bb572",
   "metadata": {},
   "outputs": [
    {
     "ename": "ValueError",
     "evalue": "dictionary update sequence element #0 has length 1; 2 is required",
     "output_type": "error",
     "traceback": [
      "\u001b[1;31m---------------------------------------------------------------------------\u001b[0m",
      "\u001b[1;31mValueError\u001b[0m                                Traceback (most recent call last)",
      "Cell \u001b[1;32mIn[9], line 14\u001b[0m\n\u001b[0;32m     12\u001b[0m \u001b[38;5;28;01mfor\u001b[39;00m key,val \u001b[38;5;129;01min\u001b[39;00m \u001b[38;5;28msorted\u001b[39m(dw\u001b[38;5;241m.\u001b[39mitems()):\n\u001b[0;32m     13\u001b[0m     row \u001b[38;5;241m=\u001b[39m {\u001b[38;5;124m'\u001b[39m\u001b[38;5;124morg\u001b[39m\u001b[38;5;124m'\u001b[39m: key}\n\u001b[1;32m---> 14\u001b[0m     \u001b[43mrow\u001b[49m\u001b[38;5;241;43m.\u001b[39;49m\u001b[43mupdate\u001b[49m\u001b[43m(\u001b[49m\u001b[43mval\u001b[49m\u001b[43m)\u001b[49m\n\u001b[0;32m     15\u001b[0m     w\u001b[38;5;241m.\u001b[39mwriterow(row)\n",
      "\u001b[1;31mValueError\u001b[0m: dictionary update sequence element #0 has length 1; 2 is required"
     ]
    }
   ],
   "source": [
    "import csv\n",
    "import itertools\n",
    "import sys\n",
    "\n",
    "fields = [ 'org', '2015', '2014', '2013', 'next' ]\n",
    "dw     = { 'orgname1': { '2015' : 2, '2014' : 1, '2013' : 1 }, 'next': 'hi',\n",
    "           'orgname2': { '2015' : 1, '2014' : 2, '2013' : 3 }, 'next': 'hi',\n",
    "           'orgname3': { '2015' : 1, '2014' : 3, '2013' : 1 }, 'next': 'hi'\n",
    "        }\n",
    "\n",
    "w = csv.DictWriter( sys.stdout, fields )\n",
    "for key,val in sorted(dw.items()):\n",
    "    row = {'org': key}\n",
    "    row.update(val)\n",
    "    w.writerow(row)"
   ]
  }
 ],
 "metadata": {
  "kernelspec": {
   "display_name": "Python 3 (ipykernel)",
   "language": "python",
   "name": "python3"
  },
  "language_info": {
   "codemirror_mode": {
    "name": "ipython",
    "version": 3
   },
   "file_extension": ".py",
   "mimetype": "text/x-python",
   "name": "python",
   "nbconvert_exporter": "python",
   "pygments_lexer": "ipython3",
   "version": "3.11.5"
  }
 },
 "nbformat": 4,
 "nbformat_minor": 5
}
